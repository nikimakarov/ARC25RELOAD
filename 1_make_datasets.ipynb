{
  "cells": [
    {
      "cell_type": "markdown",
      "metadata": {},
      "source": [
        "# ARC Dataset Creation for Qwen2.5\n",
        "\n",
        "This notebook creates training, validation, and test datasets for two tasks:\n",
        "1. **examples + input → output** (основная задача)\n",
        "2. **inputs → input** (генерация новых сеток)\n",
        "\n",
        "Each dataset includes metadata and is returned as a pandas DataFrame.\n",
        "\n",
        "Uses CFG from fine-tuning.py for consistency."
      ]
    },
    {
      "cell_type": "code",
      "execution_count": null,
      "metadata": {},
      "outputs": [],
      "source": [
        "%%time\n",
        "is_dry_run = False\n",
        "if not is_dry_run:\n",
        "    !bash /kaggle/input/arc24-source-code/install_libraries.sh"
      ]
    },
    {
      "cell_type": "code",
      "execution_count": 11,
      "metadata": {},
      "outputs": [],
      "source": [
        "import sys\n",
        "import os\n",
        "import json\n",
        "import pandas as pd\n",
        "from tqdm.auto import tqdm\n",
        "from transformers import AutoTokenizer\n",
        "from dataclasses import asdict\n",
        "\n",
        "# Add arc24 to path\n",
        "sys.path.append('./arc24-source-code')\n",
        "\n",
        "from arc24.data import load_arc_data_with_solutions\n",
        "from arc24.prompting import create_prompts_from_task\n",
        "from arc24.encoders import create_grid_encoder\n",
        "\n",
        "# Import CFG from fine-tuning script\n",
        "from dataclasses import dataclass, field\n",
        "from typing import Optional, List\n",
        "\n",
        "# Import CFG class\n",
        "import importlib.util\n",
        "spec = importlib.util.spec_from_file_location(\"fine_tuning\", \"./arc24-source-code/fine-tuning.py\")\n",
        "fine_tuning_module = importlib.util.module_from_spec(spec)\n",
        "spec.loader.exec_module(fine_tuning_module)\n",
        "CFG = fine_tuning_module.CFG"
      ]
    },
    {
      "cell_type": "code",
      "execution_count": 18,
      "metadata": {},
      "outputs": [
        {
          "name": "stdout",
          "output_type": "stream",
          "text": [
            "Configuration:\n",
            "============================================================\n",
            "  verbose: True\n",
            "  model_path: kaggle/input/qwen2.5/transformers/0.5b-instruct/1\n",
            "  output_dir: ./output/datasets_qwen25\n",
            "  max_seq_len: 4096\n",
            "  grid_encoder: GridShapeEncoder(RowNumberEncoder(MinimalGridEncoder()))\n",
            "============================================================\n"
          ]
        }
      ],
      "source": [
        "# Create configuration instance\n",
        "cfg = CFG(\n",
        "    model_path='kaggle/input/qwen2.5/transformers/0.5b-instruct/1',\n",
        "    grid_encoder='GridShapeEncoder(RowNumberEncoder(MinimalGridEncoder()))',\n",
        "    max_seq_len=4096,\n",
        "    verbose=True,\n",
        "    output_dir='./output/datasets_qwen25',\n",
        "    n_gpus=1\n",
        ")\n",
        "\n",
        "print(\"Configuration:\")\n",
        "print(\"=\"*60)\n",
        "for key, value in asdict(cfg).items():\n",
        "    if key in ['model_path', 'grid_encoder', 'max_seq_len', 'output_dir', 'verbose']:\n",
        "        print(f\"  {key}: {value}\")\n",
        "print(\"=\"*60)"
      ]
    },
    {
      "cell_type": "code",
      "execution_count": 13,
      "metadata": {},
      "outputs": [
        {
          "name": "stdout",
          "output_type": "stream",
          "text": [
            "\n",
            "Task 1 prompt version: output-from-examples-v1\n",
            "Task 2 prompt version: input-from-inputs-v0\n"
          ]
        }
      ],
      "source": [
        "# Prompt versions for two tasks\n",
        "TASK1_PROMPT = 'output-from-examples-v1'  # examples + input → output\n",
        "TASK2_PROMPT = 'input-from-inputs-v0'     # inputs → input (generation)\n",
        "\n",
        "# Data paths\n",
        "TRAIN_CHALLENGES = './kaggle/input/arc-prize-2025/arc-agi_training_challenges.json'\n",
        "TRAIN_SOLUTIONS = './kaggle/input/arc-prize-2025/arc-agi_training_solutions.json'\n",
        "EVAL_CHALLENGES = './kaggle/input/arc-prize-2025/arc-agi_evaluation_challenges.json'\n",
        "EVAL_SOLUTIONS = './kaggle/input/arc-prize-2025/arc-agi_evaluation_solutions.json'\n",
        "TEST_CHALLENGES = './kaggle/input/arc-prize-2025/arc-agi_test_challenges.json'\n",
        "\n",
        "print(f\"\\nTask 1 prompt version: {TASK1_PROMPT}\")\n",
        "print(f\"Task 2 prompt version: {TASK2_PROMPT}\")"
      ]
    },
    {
      "cell_type": "code",
      "execution_count": 16,
      "metadata": {},
      "outputs": [
        {
          "data": {
            "text/html": [
              "Finishing previous runs because reinit is set to 'default'."
            ],
            "text/plain": [
              "<IPython.core.display.HTML object>"
            ]
          },
          "metadata": {},
          "output_type": "display_data"
        },
        {
          "name": "stderr",
          "output_type": "stream",
          "text": [
            "\u001b[34m\u001b[1mwandb\u001b[0m: \u001b[32m\u001b[41mERROR\u001b[0m The nbformat package was not found. It is required to save notebook history.\n"
          ]
        },
        {
          "data": {
            "text/html": [],
            "text/plain": [
              "<IPython.core.display.HTML object>"
            ]
          },
          "metadata": {},
          "output_type": "display_data"
        },
        {
          "data": {
            "text/html": [
              " View run <strong style=\"color:#cdcd00\">datasets_qwen25</strong> at: <a href='https://wandb.ai/nsmakarov-hse-university/output/runs/6mz3w7cj' target=\"_blank\">https://wandb.ai/nsmakarov-hse-university/output/runs/6mz3w7cj</a><br> View project at: <a href='https://wandb.ai/nsmakarov-hse-university/output' target=\"_blank\">https://wandb.ai/nsmakarov-hse-university/output</a><br>Synced 5 W&B file(s), 0 media file(s), 0 artifact file(s) and 0 other file(s)"
            ],
            "text/plain": [
              "<IPython.core.display.HTML object>"
            ]
          },
          "metadata": {},
          "output_type": "display_data"
        },
        {
          "data": {
            "text/html": [
              "Find logs at: <code>./output/datasets_qwen25/wandb/run-20250930_084405-6mz3w7cj/logs</code>"
            ],
            "text/plain": [
              "<IPython.core.display.HTML object>"
            ]
          },
          "metadata": {},
          "output_type": "display_data"
        },
        {
          "data": {
            "text/html": [],
            "text/plain": [
              "<IPython.core.display.HTML object>"
            ]
          },
          "metadata": {},
          "output_type": "display_data"
        },
        {
          "data": {
            "text/html": [
              "Tracking run with wandb version 0.22.0"
            ],
            "text/plain": [
              "<IPython.core.display.HTML object>"
            ]
          },
          "metadata": {},
          "output_type": "display_data"
        },
        {
          "data": {
            "text/html": [
              "Run data is saved locally in <code>./output/datasets_qwen25/wandb/run-20250930_084516-fj3lfp5b</code>"
            ],
            "text/plain": [
              "<IPython.core.display.HTML object>"
            ]
          },
          "metadata": {},
          "output_type": "display_data"
        },
        {
          "data": {
            "text/html": [
              "Syncing run <strong><a href='https://wandb.ai/nsmakarov-hse-university/output/runs/fj3lfp5b' target=\"_blank\">datasets_qwen25</a></strong> to <a href='https://wandb.ai/nsmakarov-hse-university/output' target=\"_blank\">Weights & Biases</a> (<a href='https://wandb.me/developer-guide' target=\"_blank\">docs</a>)<br>"
            ],
            "text/plain": [
              "<IPython.core.display.HTML object>"
            ]
          },
          "metadata": {},
          "output_type": "display_data"
        },
        {
          "data": {
            "text/html": [
              " View project at <a href='https://wandb.ai/nsmakarov-hse-university/output' target=\"_blank\">https://wandb.ai/nsmakarov-hse-university/output</a>"
            ],
            "text/plain": [
              "<IPython.core.display.HTML object>"
            ]
          },
          "metadata": {},
          "output_type": "display_data"
        },
        {
          "data": {
            "text/html": [
              " View run at <a href='https://wandb.ai/nsmakarov-hse-university/output/runs/fj3lfp5b' target=\"_blank\">https://wandb.ai/nsmakarov-hse-university/output/runs/fj3lfp5b</a>"
            ],
            "text/plain": [
              "<IPython.core.display.HTML object>"
            ]
          },
          "metadata": {},
          "output_type": "display_data"
        },
        {
          "name": "stderr",
          "output_type": "stream",
          "text": [
            "2025-09-30 08:45:18,535 - __main__ - INFO - <module> - Train configuration: {'verbose': True, 'resume_from_checkpoint': True, 'model_path': '/kaggle/input/qwen2.5/transformers/0.5b-instruct/1', 'adapter_path': None, 'use_4bit_quantization': False, 'train_datasets': [['output-from-examples-v0']], 'remove_train_samples_to_fit_max_seq_len': False, 'subsample_train_tasks_ratio': None, 'val_dataset': ['output-from-examples-v0'], 'output_dir': './output/datasets_qwen25', 'n_gpus': 1, 'device_map': 'custom', 'max_seq_len': 4096, 'max_steps': 6000, 'logging_steps': 10, 'eval_steps': 50, 'save_steps': None, 'report_to': 'wandb', 'warmup_ratio': 0.05, 'batch_size': 16, 'random_seed': None, 'grid_encoder': 'GridShapeEncoder(RowNumberEncoder(MinimalGridEncoder()))', 'per_device_train_batch_size': 1, 'gradient_checkpointing': False, 'learning_rate': 0.0001, 'lr_scheduler_type': 'linear', 'lr_num_cycles': 4, 'max_grad_norm': 1.0, 'optim': 'paged_adamw_8bit', 'torch_dtype': 'bfloat16', 'use_lora': True, 'lora_r': 32, 'lora_weight_initialization': 'default', 'compose_new_task_probability': 0.0, 'compose_new_task_weights': None, 'verify_correct_output_probability': 0.5}\n"
          ]
        }
      ],
      "source": [
        "from accelerate.logging import get_logger\n",
        "from accelerate import Accelerator\n",
        "logger = get_logger(__name__)\n",
        "\n",
        "if cfg.report_to == 'wandb':\n",
        "    accelerator = Accelerator(log_with=cfg.report_to)\n",
        "    accelerator.init_trackers(\n",
        "        project_name=os.path.basename(os.path.dirname(cfg.output_dir)),\n",
        "        config=cfg,\n",
        "        init_kwargs={\"wandb\": dict(dir=cfg.output_dir,\n",
        "                                    name=os.path.basename(cfg.output_dir))}\n",
        "    )\n",
        "else:\n",
        "    accelerator = Accelerator()\n",
        "logger.info(f'Train configuration: {asdict(cfg)}')"
      ]
    },
    {
      "cell_type": "code",
      "execution_count": null,
      "metadata": {},
      "outputs": [
        {
          "name": "stderr",
          "output_type": "stream",
          "text": [
            "2025-09-30 08:46:02,897 - fine_tuning - WARNING - get_device_map - Custom device map is not implemented for n_gpus != 2, using auto device map instead\n",
            "2025-09-30 08:46:02,898 - fine_tuning - INFO - get_torch_dtype - Using bfloat16 torch dtype\n",
            "2025-09-30 08:46:02,899 - fine_tuning - INFO - get_flash_attention_implementation - Using None attention implementation\n",
            "`torch_dtype` is deprecated! Use `dtype` instead!\n"
          ]
        }
      ],
      "source": [
        "# Get model and tokenizer\n",
        "model = fine_tuning_module.get_model(cfg.model_path, n_gpus=cfg.n_gpus, torch_dtype=cfg.torch_dtype,\n",
        "                      use_4bit_quantization=cfg.use_4bit_quantization, device_map=cfg.device_map)\n",
        "tokenizer = fine_tuning_module.get_tokenizer(cfg.model_path, model)"
      ]
    },
    {
      "cell_type": "code",
      "execution_count": 20,
      "metadata": {},
      "outputs": [
        {
          "name": "stderr",
          "output_type": "stream",
          "text": [
            "2025-09-30 08:47:14,723 - arc24.encoders - INFO - create_grid_encoder - Created `GridShapeEncoder(RowNumberEncoder(MinimalGridEncoder()))` as grid encoder\n"
          ]
        },
        {
          "name": "stdout",
          "output_type": "stream",
          "text": [
            "Creating grid encoder: GridShapeEncoder(RowNumberEncoder(MinimalGridEncoder()))\n"
          ]
        }
      ],
      "source": [
        "# Initialize encoder using CFG\n",
        "print(f\"Creating grid encoder: {cfg.grid_encoder}\")\n",
        "grid_encoder = fine_tuning_module.create_grid_encoder(cfg.grid_encoder)"
      ]
    },
    {
      "cell_type": "code",
      "execution_count": 35,
      "metadata": {},
      "outputs": [],
      "source": [
        "def load_solutions(solutions_path):\n",
        "    \"\"\"Load ground truth solutions for evaluation.\"\"\"\n",
        "    if os.path.exists(solutions_path):\n",
        "        with open(solutions_path, 'r') as f:\n",
        "            return json.load(f)\n",
        "    return None"
      ]
    },
    {
      "cell_type": "code",
      "execution_count": 36,
      "metadata": {},
      "outputs": [],
      "source": [
        "def create_dataset_with_metadata(data_dict, prompt_version, grid_encoder, tokenizer, \n",
        "                                  dataset_name='dataset', is_train=True, max_seq_len=None,\n",
        "                                  solutions=None):\n",
        "    \"\"\"\n",
        "    Creates a dataset with prompts and metadata from ARC tasks.\n",
        "    \n",
        "    Args:\n",
        "        data_dict: Dictionary of tasks (task_id -> task data)\n",
        "        prompt_version: Which prompt template to use\n",
        "        grid_encoder: Grid encoder instance\n",
        "        tokenizer: Tokenizer instance\n",
        "        dataset_name: Name for logging\n",
        "        is_train: Whether to include outputs (training mode)\n",
        "        max_seq_len: Maximum sequence length (filter out longer prompts)\n",
        "        solutions: Ground truth solutions dict (for validation)\n",
        "    \n",
        "    Returns:\n",
        "        pd.DataFrame with columns: text, task_id, test_sample_index, prompt_length, \n",
        "                                   num_train_samples, input_shape, output_shape (if is_train),\n",
        "                                   ground_truth_output (if solutions provided)\n",
        "    \"\"\"\n",
        "    records = []\n",
        "    filtered_count = 0\n",
        "    \n",
        "    for task_id, task in tqdm(data_dict.items(), desc=f'Creating {dataset_name}'):\n",
        "        # Create prompts for this task\n",
        "        prompts = create_prompts_from_task(\n",
        "            task, \n",
        "            grid_encoder, \n",
        "            tokenizer,\n",
        "            is_train_prompt=is_train,\n",
        "            prompt_version=prompt_version\n",
        "        )\n",
        "        \n",
        "        # Add metadata for each test sample\n",
        "        for test_idx, prompt in enumerate(prompts):\n",
        "            test_sample = task['test'][test_idx]\n",
        "            prompt_length = len(tokenizer.encode(prompt))\n",
        "            \n",
        "            # Filter by max_seq_len if provided\n",
        "            if max_seq_len is not None and prompt_length >= max_seq_len:\n",
        "                filtered_count += 1\n",
        "                continue\n",
        "            \n",
        "            record = {\n",
        "                'text': prompt,\n",
        "                'task_id': task_id,\n",
        "                'test_sample_index': test_idx,\n",
        "                'prompt_length': prompt_length,\n",
        "                'num_train_samples': len(task['train']),\n",
        "                'input_height': len(test_sample['input']),\n",
        "                'input_width': len(test_sample['input'][0]) if test_sample['input'] else 0,\n",
        "            }\n",
        "            \n",
        "            # Add output shape if available (training mode)\n",
        "            if is_train and 'output' in test_sample:\n",
        "                record['output_height'] = len(test_sample['output'])\n",
        "                record['output_width'] = len(test_sample['output'][0]) if test_sample['output'] else 0\n",
        "            \n",
        "            # Add ground truth for evaluation (store as JSON string)\n",
        "            if solutions and task_id in solutions:\n",
        "                if test_idx < len(solutions[task_id]):\n",
        "                    record['ground_truth_output'] = json.dumps(solutions[task_id][test_idx])\n",
        "            elif 'output' in test_sample:\n",
        "                # Use output from test_sample if available\n",
        "                record['ground_truth_output'] = json.dumps(test_sample['output'])\n",
        "            \n",
        "            records.append(record)\n",
        "    \n",
        "    df = pd.DataFrame(records)\n",
        "    \n",
        "    print(f\"\\n{dataset_name} statistics:\")\n",
        "    print(f\"  Total samples: {len(df)}\")\n",
        "    if filtered_count > 0:\n",
        "        print(f\"  Filtered out (too long): {filtered_count}\")\n",
        "    print(f\"  Unique tasks: {df['task_id'].nunique()}\")\n",
        "    print(f\"  Prompt length - mean: {df['prompt_length'].mean():.0f}, \"\n",
        "          f\"median: {df['prompt_length'].median():.0f}, \"\n",
        "          f\"max: {df['prompt_length'].max()}\")\n",
        "    if 'ground_truth_output' in df.columns:\n",
        "        print(f\"  Samples with ground truth: {df['ground_truth_output'].notna().sum()}\")\n",
        "    \n",
        "    return df"
      ]
    },
    {
      "cell_type": "markdown",
      "metadata": {},
      "source": [
        "## Task 1: examples + input → output\n",
        "### Основная задача предсказания выходной сетки"
      ]
    },
    {
      "cell_type": "code",
      "execution_count": 37,
      "metadata": {},
      "outputs": [
        {
          "name": "stdout",
          "output_type": "stream",
          "text": [
            "\n",
            "============================================================\n",
            "TASK 1: output-from-examples-v1\n",
            "Max sequence length: 4096\n",
            "============================================================\n"
          ]
        }
      ],
      "source": [
        "print(f\"\\n{'='*60}\")\n",
        "print(f\"TASK 1: {TASK1_PROMPT}\")\n",
        "print(f\"Max sequence length: {cfg.max_seq_len}\")\n",
        "print(f\"{'='*60}\")"
      ]
    },
    {
      "cell_type": "code",
      "execution_count": 38,
      "metadata": {},
      "outputs": [
        {
          "name": "stdout",
          "output_type": "stream",
          "text": [
            "\n",
            "Loading training data from ./kaggle/input/arc-prize-2025/arc-agi_training_challenges.json\n",
            "Loaded 1000 training tasks\n",
            "Training solutions loaded: True\n"
          ]
        },
        {
          "name": "stderr",
          "output_type": "stream",
          "text": [
            "Creating Task1 Train: 100%|██████████| 1000/1000 [00:01<00:00, 552.93it/s]"
          ]
        },
        {
          "name": "stdout",
          "output_type": "stream",
          "text": [
            "\n",
            "Task1 Train statistics:\n",
            "  Total samples: 974\n",
            "  Filtered out (too long): 102\n",
            "  Unique tasks: 907\n",
            "  Prompt length - mean: 1609, median: 1353, max: 4094\n",
            "  Samples with ground truth: 974\n"
          ]
        },
        {
          "name": "stderr",
          "output_type": "stream",
          "text": [
            "\n"
          ]
        }
      ],
      "source": [
        "# Load training data\n",
        "print(f\"\\nLoading training data from {TRAIN_CHALLENGES}\")\n",
        "train_data = load_arc_data_with_solutions(TRAIN_CHALLENGES)\n",
        "print(f\"Loaded {len(train_data)} training tasks\")\n",
        "\n",
        "# Load training solutions explicitly (для явности)\n",
        "train_solutions = load_solutions(TRAIN_SOLUTIONS)\n",
        "print(f\"Training solutions loaded: {train_solutions is not None}\")\n",
        "\n",
        "# Create training dataset for Task 1\n",
        "task1_train_df = create_dataset_with_metadata(\n",
        "    train_data,\n",
        "    prompt_version=TASK1_PROMPT,\n",
        "    grid_encoder=grid_encoder,\n",
        "    tokenizer=tokenizer,\n",
        "    dataset_name='Task1 Train',\n",
        "    is_train=True,\n",
        "    max_seq_len=cfg.max_seq_len,\n",
        "    solutions=train_solutions  # Добавлено!\n",
        ")"
      ]
    },
    {
      "cell_type": "code",
      "execution_count": 42,
      "metadata": {},
      "outputs": [
        {
          "data": {
            "text/plain": [
              "\"<|im_start|>system\\nYou are a helpful assistant.<|im_end|>\\n<|im_start|>user\\nLet's see if you can solve this simple Abstraction and Reasoning Challenge (ARC) task.\\nBelow there are some input-output grid examples that define the task.\\nYour job is to understand the transformation between the input and the output and apply it to the test input grid.\\nThe transformations are always based on the following priors: objectness, goal-directed, numbers & counting, and basic geometry & topology.\\n\\n## Example 1\\n\\n### Input\\n\\n```grid shape: 2x2\\n1 79\\n2 43\\n```\\n\\n### Output\\n\\n```grid shape: 6x6\\n1 797979\\n2 434343\\n3 979797\\n4 343434\\n5 797979\\n6 434343\\n```\\n\\n## Example 2\\n\\n### Input\\n\\n```grid shape: 2x2\\n1 86\\n2 64\\n```\\n\\n### Output\\n\\n```grid shape: 6x6\\n1 868686\\n2 646464\\n3 686868\\n4 464646\\n5 868686\\n6 646464\\n```\\n\\n## Test case\\n\\n### Input\\n\\n```grid shape: 2x2\\n1 32\\n2 78\\n```<|im_end|>\\n<|im_start|>assistant\\n### Output\\n\\n```grid shape: 6x6\\n1 323232\\n2 787878\\n3 232323\\n4 878787\\n5 323232\\n6 787878\\n```<|im_end|>\\n\""
            ]
          },
          "execution_count": 42,
          "metadata": {},
          "output_type": "execute_result"
        }
      ],
      "source": [
        "task1_train_df.iloc[0][\"text\"]"
      ]
    },
    {
      "cell_type": "code",
      "execution_count": 39,
      "metadata": {},
      "outputs": [
        {
          "name": "stdout",
          "output_type": "stream",
          "text": [
            "\n",
            "Loading validation data from ./kaggle/input/arc-prize-2025/arc-agi_evaluation_challenges.json\n",
            "Loaded 120 validation tasks\n",
            "Validation solutions loaded: True\n"
          ]
        },
        {
          "name": "stderr",
          "output_type": "stream",
          "text": [
            "Creating Task1 Validation:   0%|          | 0/120 [00:00<?, ?it/s]"
          ]
        },
        {
          "name": "stderr",
          "output_type": "stream",
          "text": [
            "Creating Task1 Validation: 100%|██████████| 120/120 [00:00<00:00, 255.61it/s]"
          ]
        },
        {
          "name": "stdout",
          "output_type": "stream",
          "text": [
            "\n",
            "Task1 Validation statistics:\n",
            "  Total samples: 124\n",
            "  Filtered out (too long): 48\n",
            "  Unique tasks: 87\n",
            "  Prompt length - mean: 2685, median: 2710, max: 4087\n",
            "  Samples with ground truth: 124\n"
          ]
        },
        {
          "name": "stderr",
          "output_type": "stream",
          "text": [
            "\n"
          ]
        }
      ],
      "source": [
        "# Load validation data\n",
        "print(f\"\\nLoading validation data from {EVAL_CHALLENGES}\")\n",
        "val_data = load_arc_data_with_solutions(EVAL_CHALLENGES)\n",
        "print(f\"Loaded {len(val_data)} validation tasks\")\n",
        "\n",
        "# Load validation solutions explicitly\n",
        "val_solutions = load_solutions(EVAL_SOLUTIONS)\n",
        "print(f\"Validation solutions loaded: {val_solutions is not None}\")\n",
        "\n",
        "# Create validation dataset for Task 1\n",
        "task1_val_df = create_dataset_with_metadata(\n",
        "    val_data,\n",
        "    prompt_version=TASK1_PROMPT,\n",
        "    grid_encoder=grid_encoder,\n",
        "    tokenizer=tokenizer,\n",
        "    dataset_name='Task1 Validation',\n",
        "    is_train=True,\n",
        "    max_seq_len=cfg.max_seq_len,\n",
        "    solutions=val_solutions  # Добавлено!\n",
        ")"
      ]
    },
    {
      "cell_type": "code",
      "execution_count": 25,
      "metadata": {},
      "outputs": [
        {
          "name": "stdout",
          "output_type": "stream",
          "text": [
            "\n",
            "Loading test data from ./kaggle/input/arc-prize-2025/arc-agi_test_challenges.json\n",
            "Loaded 240 test tasks\n"
          ]
        },
        {
          "name": "stderr",
          "output_type": "stream",
          "text": [
            "Creating Task1 Test: 100%|██████████| 240/240 [00:00<00:00, 635.49it/s]"
          ]
        },
        {
          "name": "stdout",
          "output_type": "stream",
          "text": [
            "\n",
            "Task1 Test statistics:\n",
            "  Total samples: 259\n",
            "  Unique tasks: 240\n",
            "  Prompt length - mean: 1800, median: 1427, max: 7313\n"
          ]
        },
        {
          "name": "stderr",
          "output_type": "stream",
          "text": [
            "\n"
          ]
        }
      ],
      "source": [
        "# Load test data (no solutions available)\n",
        "print(f\"\\nLoading test data from {TEST_CHALLENGES}\")\n",
        "with open(TEST_CHALLENGES, 'r') as f:\n",
        "    test_data = json.load(f)\n",
        "print(f\"Loaded {len(test_data)} test tasks\")\n",
        "\n",
        "# Create test dataset for Task 1\n",
        "task1_test_df = create_dataset_with_metadata(\n",
        "    test_data,\n",
        "    prompt_version=TASK1_PROMPT,\n",
        "    grid_encoder=grid_encoder,\n",
        "    tokenizer=tokenizer,\n",
        "    dataset_name='Task1 Test',\n",
        "    is_train=False,  # No outputs for test set\n",
        "    max_seq_len=None  # Don't filter test set\n",
        ")"
      ]
    },
    {
      "cell_type": "markdown",
      "metadata": {},
      "source": [
        "## Task 2: inputs → input\n",
        "### Генерация новых сеток для понимания распределения"
      ]
    },
    {
      "cell_type": "code",
      "execution_count": 43,
      "metadata": {},
      "outputs": [
        {
          "name": "stdout",
          "output_type": "stream",
          "text": [
            "\n",
            "============================================================\n",
            "TASK 2: input-from-inputs-v0\n",
            "Max sequence length: 4096\n",
            "============================================================\n"
          ]
        }
      ],
      "source": [
        "print(f\"\\n{'='*60}\")\n",
        "print(f\"TASK 2: {TASK2_PROMPT}\")\n",
        "print(f\"Max sequence length: {cfg.max_seq_len}\")\n",
        "print(f\"{'='*60}\")"
      ]
    },
    {
      "cell_type": "code",
      "execution_count": 45,
      "metadata": {},
      "outputs": [
        {
          "name": "stderr",
          "output_type": "stream",
          "text": [
            "Creating Task2 Train: 100%|██████████| 1000/1000 [00:01<00:00, 957.90it/s]\n"
          ]
        },
        {
          "name": "stdout",
          "output_type": "stream",
          "text": [
            "\n",
            "Task2 Train statistics:\n",
            "  Total samples: 1060\n",
            "  Filtered out (too long): 16\n",
            "  Unique tasks: 986\n",
            "  Prompt length - mean: 1041, median: 816, max: 4084\n",
            "  Samples with ground truth: 1060\n"
          ]
        },
        {
          "name": "stderr",
          "output_type": "stream",
          "text": [
            "Creating Task2 Validation: 100%|██████████| 120/120 [00:00<00:00, 409.01it/s]"
          ]
        },
        {
          "name": "stdout",
          "output_type": "stream",
          "text": [
            "\n",
            "Task2 Validation statistics:\n",
            "  Total samples: 166\n",
            "  Filtered out (too long): 6\n",
            "  Unique tasks: 116\n",
            "  Prompt length - mean: 1819, median: 1812, max: 4060\n",
            "  Samples with ground truth: 166\n"
          ]
        },
        {
          "name": "stderr",
          "output_type": "stream",
          "text": [
            "\n"
          ]
        }
      ],
      "source": [
        "# Create training dataset for Task 2\n",
        "task2_train_df = create_dataset_with_metadata(\n",
        "    train_data,\n",
        "    prompt_version=TASK2_PROMPT,\n",
        "    grid_encoder=grid_encoder,\n",
        "    tokenizer=tokenizer,\n",
        "    dataset_name='Task2 Train',\n",
        "    is_train=True,\n",
        "    max_seq_len=cfg.max_seq_len,\n",
        "    solutions=train_solutions  # Добавлено!\n",
        ")\n",
        "\n",
        "# Create validation dataset for Task 2\n",
        "task2_val_df = create_dataset_with_metadata(\n",
        "    val_data,\n",
        "    prompt_version=TASK2_PROMPT,\n",
        "    grid_encoder=grid_encoder,\n",
        "    tokenizer=tokenizer,\n",
        "    dataset_name='Task2 Validation',\n",
        "    is_train=True,\n",
        "    max_seq_len=cfg.max_seq_len,\n",
        "    solutions=val_solutions  # Добавлено!\n",
        ")"
      ]
    },
    {
      "cell_type": "code",
      "execution_count": 46,
      "metadata": {},
      "outputs": [
        {
          "name": "stderr",
          "output_type": "stream",
          "text": [
            "Creating Task2 Test: 100%|██████████| 240/240 [00:00<00:00, 1132.84it/s]"
          ]
        },
        {
          "name": "stdout",
          "output_type": "stream",
          "text": [
            "\n",
            "Task2 Test statistics:\n",
            "  Total samples: 259\n",
            "  Unique tasks: 240\n",
            "  Prompt length - mean: 836, median: 671, max: 3163\n"
          ]
        },
        {
          "name": "stderr",
          "output_type": "stream",
          "text": [
            "\n"
          ]
        }
      ],
      "source": [
        "# Create test dataset for Task 2\n",
        "task2_test_df = create_dataset_with_metadata(\n",
        "    test_data,\n",
        "    prompt_version=TASK2_PROMPT,\n",
        "    grid_encoder=grid_encoder,\n",
        "    tokenizer=tokenizer,\n",
        "    dataset_name='Task2 Test',\n",
        "    is_train=False,\n",
        "    max_seq_len=None  # Don't filter test set\n",
        ")"
      ]
    },
    {
      "cell_type": "markdown",
      "metadata": {},
      "source": [
        "## Preview Datasets"
      ]
    },
    {
      "cell_type": "code",
      "execution_count": 47,
      "metadata": {},
      "outputs": [
        {
          "name": "stdout",
          "output_type": "stream",
          "text": [
            "\n",
            "============================================================\n",
            "DATASET SUMMARIES\n",
            "============================================================\n",
            "\n",
            "Task 1: Train:\n",
            "  Shape: (974, 10)\n",
            "  Columns: ['text', 'task_id', 'test_sample_index', 'prompt_length', 'num_train_samples', 'input_height', 'input_width', 'output_height', 'output_width', 'ground_truth_output']\n"
          ]
        },
        {
          "data": {
            "text/html": [
              "<div>\n",
              "<style scoped>\n",
              "    .dataframe tbody tr th:only-of-type {\n",
              "        vertical-align: middle;\n",
              "    }\n",
              "\n",
              "    .dataframe tbody tr th {\n",
              "        vertical-align: top;\n",
              "    }\n",
              "\n",
              "    .dataframe thead th {\n",
              "        text-align: right;\n",
              "    }\n",
              "</style>\n",
              "<table border=\"1\" class=\"dataframe\">\n",
              "  <thead>\n",
              "    <tr style=\"text-align: right;\">\n",
              "      <th></th>\n",
              "      <th>text</th>\n",
              "      <th>task_id</th>\n",
              "      <th>test_sample_index</th>\n",
              "      <th>prompt_length</th>\n",
              "      <th>num_train_samples</th>\n",
              "      <th>input_height</th>\n",
              "      <th>input_width</th>\n",
              "      <th>output_height</th>\n",
              "      <th>output_width</th>\n",
              "      <th>ground_truth_output</th>\n",
              "    </tr>\n",
              "  </thead>\n",
              "  <tbody>\n",
              "    <tr>\n",
              "      <th>0</th>\n",
              "      <td>&lt;|im_start|&gt;system\\nYou are a helpful assistan...</td>\n",
              "      <td>00576224</td>\n",
              "      <td>0</td>\n",
              "      <td>391</td>\n",
              "      <td>2</td>\n",
              "      <td>2</td>\n",
              "      <td>2</td>\n",
              "      <td>6</td>\n",
              "      <td>6</td>\n",
              "      <td>[[3, 2, 3, 2, 3, 2], [7, 8, 7, 8, 7, 8], [2, 3...</td>\n",
              "    </tr>\n",
              "    <tr>\n",
              "      <th>1</th>\n",
              "      <td>&lt;|im_start|&gt;system\\nYou are a helpful assistan...</td>\n",
              "      <td>007bbfb7</td>\n",
              "      <td>0</td>\n",
              "      <td>1054</td>\n",
              "      <td>5</td>\n",
              "      <td>3</td>\n",
              "      <td>3</td>\n",
              "      <td>9</td>\n",
              "      <td>9</td>\n",
              "      <td>[[7, 0, 7, 0, 0, 0, 7, 0, 7], [7, 0, 7, 0, 0, ...</td>\n",
              "    </tr>\n",
              "    <tr>\n",
              "      <th>2</th>\n",
              "      <td>&lt;|im_start|&gt;system\\nYou are a helpful assistan...</td>\n",
              "      <td>009d5c81</td>\n",
              "      <td>0</td>\n",
              "      <td>3238</td>\n",
              "      <td>5</td>\n",
              "      <td>14</td>\n",
              "      <td>14</td>\n",
              "      <td>14</td>\n",
              "      <td>14</td>\n",
              "      <td>[[0, 0, 0, 0, 0, 0, 0, 0, 0, 0, 0, 0, 0, 0], [...</td>\n",
              "    </tr>\n",
              "  </tbody>\n",
              "</table>\n",
              "</div>"
            ],
            "text/plain": [
              "                                                text   task_id  \\\n",
              "0  <|im_start|>system\\nYou are a helpful assistan...  00576224   \n",
              "1  <|im_start|>system\\nYou are a helpful assistan...  007bbfb7   \n",
              "2  <|im_start|>system\\nYou are a helpful assistan...  009d5c81   \n",
              "\n",
              "   test_sample_index  prompt_length  num_train_samples  input_height  \\\n",
              "0                  0            391                  2             2   \n",
              "1                  0           1054                  5             3   \n",
              "2                  0           3238                  5            14   \n",
              "\n",
              "   input_width  output_height  output_width  \\\n",
              "0            2              6             6   \n",
              "1            3              9             9   \n",
              "2           14             14            14   \n",
              "\n",
              "                                 ground_truth_output  \n",
              "0  [[3, 2, 3, 2, 3, 2], [7, 8, 7, 8, 7, 8], [2, 3...  \n",
              "1  [[7, 0, 7, 0, 0, 0, 7, 0, 7], [7, 0, 7, 0, 0, ...  \n",
              "2  [[0, 0, 0, 0, 0, 0, 0, 0, 0, 0, 0, 0, 0, 0], [...  "
            ]
          },
          "metadata": {},
          "output_type": "display_data"
        },
        {
          "name": "stdout",
          "output_type": "stream",
          "text": [
            "\n",
            "Task 1: Validation:\n",
            "  Shape: (124, 10)\n",
            "  Columns: ['text', 'task_id', 'test_sample_index', 'prompt_length', 'num_train_samples', 'input_height', 'input_width', 'output_height', 'output_width', 'ground_truth_output']\n"
          ]
        },
        {
          "data": {
            "text/html": [
              "<div>\n",
              "<style scoped>\n",
              "    .dataframe tbody tr th:only-of-type {\n",
              "        vertical-align: middle;\n",
              "    }\n",
              "\n",
              "    .dataframe tbody tr th {\n",
              "        vertical-align: top;\n",
              "    }\n",
              "\n",
              "    .dataframe thead th {\n",
              "        text-align: right;\n",
              "    }\n",
              "</style>\n",
              "<table border=\"1\" class=\"dataframe\">\n",
              "  <thead>\n",
              "    <tr style=\"text-align: right;\">\n",
              "      <th></th>\n",
              "      <th>text</th>\n",
              "      <th>task_id</th>\n",
              "      <th>test_sample_index</th>\n",
              "      <th>prompt_length</th>\n",
              "      <th>num_train_samples</th>\n",
              "      <th>input_height</th>\n",
              "      <th>input_width</th>\n",
              "      <th>output_height</th>\n",
              "      <th>output_width</th>\n",
              "      <th>ground_truth_output</th>\n",
              "    </tr>\n",
              "  </thead>\n",
              "  <tbody>\n",
              "    <tr>\n",
              "      <th>0</th>\n",
              "      <td>&lt;|im_start|&gt;system\\nYou are a helpful assistan...</td>\n",
              "      <td>135a2760</td>\n",
              "      <td>0</td>\n",
              "      <td>3339</td>\n",
              "      <td>2</td>\n",
              "      <td>29</td>\n",
              "      <td>29</td>\n",
              "      <td>29</td>\n",
              "      <td>29</td>\n",
              "      <td>[[8, 8, 8, 8, 8, 8, 8, 8, 8, 8, 8, 8, 8, 8, 8,...</td>\n",
              "    </tr>\n",
              "    <tr>\n",
              "      <th>1</th>\n",
              "      <td>&lt;|im_start|&gt;system\\nYou are a helpful assistan...</td>\n",
              "      <td>136b0064</td>\n",
              "      <td>0</td>\n",
              "      <td>1734</td>\n",
              "      <td>3</td>\n",
              "      <td>19</td>\n",
              "      <td>15</td>\n",
              "      <td>19</td>\n",
              "      <td>7</td>\n",
              "      <td>[[0, 0, 5, 0, 0, 0, 0], [0, 0, 1, 1, 1, 0, 0],...</td>\n",
              "    </tr>\n",
              "    <tr>\n",
              "      <th>2</th>\n",
              "      <td>&lt;|im_start|&gt;system\\nYou are a helpful assistan...</td>\n",
              "      <td>142ca369</td>\n",
              "      <td>0</td>\n",
              "      <td>3680</td>\n",
              "      <td>3</td>\n",
              "      <td>18</td>\n",
              "      <td>18</td>\n",
              "      <td>18</td>\n",
              "      <td>18</td>\n",
              "      <td>[[0, 1, 0, 2, 0, 7, 0, 5, 0, 0, 2, 0, 8, 0, 6,...</td>\n",
              "    </tr>\n",
              "  </tbody>\n",
              "</table>\n",
              "</div>"
            ],
            "text/plain": [
              "                                                text   task_id  \\\n",
              "0  <|im_start|>system\\nYou are a helpful assistan...  135a2760   \n",
              "1  <|im_start|>system\\nYou are a helpful assistan...  136b0064   \n",
              "2  <|im_start|>system\\nYou are a helpful assistan...  142ca369   \n",
              "\n",
              "   test_sample_index  prompt_length  num_train_samples  input_height  \\\n",
              "0                  0           3339                  2            29   \n",
              "1                  0           1734                  3            19   \n",
              "2                  0           3680                  3            18   \n",
              "\n",
              "   input_width  output_height  output_width  \\\n",
              "0           29             29            29   \n",
              "1           15             19             7   \n",
              "2           18             18            18   \n",
              "\n",
              "                                 ground_truth_output  \n",
              "0  [[8, 8, 8, 8, 8, 8, 8, 8, 8, 8, 8, 8, 8, 8, 8,...  \n",
              "1  [[0, 0, 5, 0, 0, 0, 0], [0, 0, 1, 1, 1, 0, 0],...  \n",
              "2  [[0, 1, 0, 2, 0, 7, 0, 5, 0, 0, 2, 0, 8, 0, 6,...  "
            ]
          },
          "metadata": {},
          "output_type": "display_data"
        },
        {
          "name": "stdout",
          "output_type": "stream",
          "text": [
            "\n",
            "Task 1: Test:\n",
            "  Shape: (259, 7)\n",
            "  Columns: ['text', 'task_id', 'test_sample_index', 'prompt_length', 'num_train_samples', 'input_height', 'input_width']\n"
          ]
        },
        {
          "data": {
            "text/html": [
              "<div>\n",
              "<style scoped>\n",
              "    .dataframe tbody tr th:only-of-type {\n",
              "        vertical-align: middle;\n",
              "    }\n",
              "\n",
              "    .dataframe tbody tr th {\n",
              "        vertical-align: top;\n",
              "    }\n",
              "\n",
              "    .dataframe thead th {\n",
              "        text-align: right;\n",
              "    }\n",
              "</style>\n",
              "<table border=\"1\" class=\"dataframe\">\n",
              "  <thead>\n",
              "    <tr style=\"text-align: right;\">\n",
              "      <th></th>\n",
              "      <th>text</th>\n",
              "      <th>task_id</th>\n",
              "      <th>test_sample_index</th>\n",
              "      <th>prompt_length</th>\n",
              "      <th>num_train_samples</th>\n",
              "      <th>input_height</th>\n",
              "      <th>input_width</th>\n",
              "    </tr>\n",
              "  </thead>\n",
              "  <tbody>\n",
              "    <tr>\n",
              "      <th>0</th>\n",
              "      <td>&lt;|im_start|&gt;system\\nYou are a helpful assistan...</td>\n",
              "      <td>00576224</td>\n",
              "      <td>0</td>\n",
              "      <td>327</td>\n",
              "      <td>2</td>\n",
              "      <td>2</td>\n",
              "      <td>2</td>\n",
              "    </tr>\n",
              "    <tr>\n",
              "      <th>1</th>\n",
              "      <td>&lt;|im_start|&gt;system\\nYou are a helpful assistan...</td>\n",
              "      <td>007bbfb7</td>\n",
              "      <td>0</td>\n",
              "      <td>936</td>\n",
              "      <td>5</td>\n",
              "      <td>3</td>\n",
              "      <td>3</td>\n",
              "    </tr>\n",
              "    <tr>\n",
              "      <th>2</th>\n",
              "      <td>&lt;|im_start|&gt;system\\nYou are a helpful assistan...</td>\n",
              "      <td>009d5c81</td>\n",
              "      <td>0</td>\n",
              "      <td>2983</td>\n",
              "      <td>5</td>\n",
              "      <td>14</td>\n",
              "      <td>14</td>\n",
              "    </tr>\n",
              "  </tbody>\n",
              "</table>\n",
              "</div>"
            ],
            "text/plain": [
              "                                                text   task_id  \\\n",
              "0  <|im_start|>system\\nYou are a helpful assistan...  00576224   \n",
              "1  <|im_start|>system\\nYou are a helpful assistan...  007bbfb7   \n",
              "2  <|im_start|>system\\nYou are a helpful assistan...  009d5c81   \n",
              "\n",
              "   test_sample_index  prompt_length  num_train_samples  input_height  \\\n",
              "0                  0            327                  2             2   \n",
              "1                  0            936                  5             3   \n",
              "2                  0           2983                  5            14   \n",
              "\n",
              "   input_width  \n",
              "0            2  \n",
              "1            3  \n",
              "2           14  "
            ]
          },
          "metadata": {},
          "output_type": "display_data"
        },
        {
          "name": "stdout",
          "output_type": "stream",
          "text": [
            "\n",
            "Task 2: Train:\n",
            "  Shape: (1060, 10)\n",
            "  Columns: ['text', 'task_id', 'test_sample_index', 'prompt_length', 'num_train_samples', 'input_height', 'input_width', 'output_height', 'output_width', 'ground_truth_output']\n"
          ]
        },
        {
          "data": {
            "text/html": [
              "<div>\n",
              "<style scoped>\n",
              "    .dataframe tbody tr th:only-of-type {\n",
              "        vertical-align: middle;\n",
              "    }\n",
              "\n",
              "    .dataframe tbody tr th {\n",
              "        vertical-align: top;\n",
              "    }\n",
              "\n",
              "    .dataframe thead th {\n",
              "        text-align: right;\n",
              "    }\n",
              "</style>\n",
              "<table border=\"1\" class=\"dataframe\">\n",
              "  <thead>\n",
              "    <tr style=\"text-align: right;\">\n",
              "      <th></th>\n",
              "      <th>text</th>\n",
              "      <th>task_id</th>\n",
              "      <th>test_sample_index</th>\n",
              "      <th>prompt_length</th>\n",
              "      <th>num_train_samples</th>\n",
              "      <th>input_height</th>\n",
              "      <th>input_width</th>\n",
              "      <th>output_height</th>\n",
              "      <th>output_width</th>\n",
              "      <th>ground_truth_output</th>\n",
              "    </tr>\n",
              "  </thead>\n",
              "  <tbody>\n",
              "    <tr>\n",
              "      <th>0</th>\n",
              "      <td>&lt;|im_start|&gt;system\\nYou are a helpful assistan...</td>\n",
              "      <td>00576224</td>\n",
              "      <td>0</td>\n",
              "      <td>147</td>\n",
              "      <td>2</td>\n",
              "      <td>2</td>\n",
              "      <td>2</td>\n",
              "      <td>6</td>\n",
              "      <td>6</td>\n",
              "      <td>[[3, 2, 3, 2, 3, 2], [7, 8, 7, 8, 7, 8], [2, 3...</td>\n",
              "    </tr>\n",
              "    <tr>\n",
              "      <th>1</th>\n",
              "      <td>&lt;|im_start|&gt;system\\nYou are a helpful assistan...</td>\n",
              "      <td>007bbfb7</td>\n",
              "      <td>0</td>\n",
              "      <td>276</td>\n",
              "      <td>5</td>\n",
              "      <td>3</td>\n",
              "      <td>3</td>\n",
              "      <td>9</td>\n",
              "      <td>9</td>\n",
              "      <td>[[7, 0, 7, 0, 0, 0, 7, 0, 7], [7, 0, 7, 0, 0, ...</td>\n",
              "    </tr>\n",
              "    <tr>\n",
              "      <th>2</th>\n",
              "      <td>&lt;|im_start|&gt;system\\nYou are a helpful assistan...</td>\n",
              "      <td>009d5c81</td>\n",
              "      <td>0</td>\n",
              "      <td>1638</td>\n",
              "      <td>5</td>\n",
              "      <td>14</td>\n",
              "      <td>14</td>\n",
              "      <td>14</td>\n",
              "      <td>14</td>\n",
              "      <td>[[0, 0, 0, 0, 0, 0, 0, 0, 0, 0, 0, 0, 0, 0], [...</td>\n",
              "    </tr>\n",
              "  </tbody>\n",
              "</table>\n",
              "</div>"
            ],
            "text/plain": [
              "                                                text   task_id  \\\n",
              "0  <|im_start|>system\\nYou are a helpful assistan...  00576224   \n",
              "1  <|im_start|>system\\nYou are a helpful assistan...  007bbfb7   \n",
              "2  <|im_start|>system\\nYou are a helpful assistan...  009d5c81   \n",
              "\n",
              "   test_sample_index  prompt_length  num_train_samples  input_height  \\\n",
              "0                  0            147                  2             2   \n",
              "1                  0            276                  5             3   \n",
              "2                  0           1638                  5            14   \n",
              "\n",
              "   input_width  output_height  output_width  \\\n",
              "0            2              6             6   \n",
              "1            3              9             9   \n",
              "2           14             14            14   \n",
              "\n",
              "                                 ground_truth_output  \n",
              "0  [[3, 2, 3, 2, 3, 2], [7, 8, 7, 8, 7, 8], [2, 3...  \n",
              "1  [[7, 0, 7, 0, 0, 0, 7, 0, 7], [7, 0, 7, 0, 0, ...  \n",
              "2  [[0, 0, 0, 0, 0, 0, 0, 0, 0, 0, 0, 0, 0, 0], [...  "
            ]
          },
          "metadata": {},
          "output_type": "display_data"
        },
        {
          "name": "stdout",
          "output_type": "stream",
          "text": [
            "\n",
            "Task 2: Validation:\n",
            "  Shape: (166, 10)\n",
            "  Columns: ['text', 'task_id', 'test_sample_index', 'prompt_length', 'num_train_samples', 'input_height', 'input_width', 'output_height', 'output_width', 'ground_truth_output']\n"
          ]
        },
        {
          "data": {
            "text/html": [
              "<div>\n",
              "<style scoped>\n",
              "    .dataframe tbody tr th:only-of-type {\n",
              "        vertical-align: middle;\n",
              "    }\n",
              "\n",
              "    .dataframe tbody tr th {\n",
              "        vertical-align: top;\n",
              "    }\n",
              "\n",
              "    .dataframe thead th {\n",
              "        text-align: right;\n",
              "    }\n",
              "</style>\n",
              "<table border=\"1\" class=\"dataframe\">\n",
              "  <thead>\n",
              "    <tr style=\"text-align: right;\">\n",
              "      <th></th>\n",
              "      <th>text</th>\n",
              "      <th>task_id</th>\n",
              "      <th>test_sample_index</th>\n",
              "      <th>prompt_length</th>\n",
              "      <th>num_train_samples</th>\n",
              "      <th>input_height</th>\n",
              "      <th>input_width</th>\n",
              "      <th>output_height</th>\n",
              "      <th>output_width</th>\n",
              "      <th>ground_truth_output</th>\n",
              "    </tr>\n",
              "  </thead>\n",
              "  <tbody>\n",
              "    <tr>\n",
              "      <th>0</th>\n",
              "      <td>&lt;|im_start|&gt;system\\nYou are a helpful assistan...</td>\n",
              "      <td>135a2760</td>\n",
              "      <td>0</td>\n",
              "      <td>1687</td>\n",
              "      <td>2</td>\n",
              "      <td>29</td>\n",
              "      <td>29</td>\n",
              "      <td>29</td>\n",
              "      <td>29</td>\n",
              "      <td>[[8, 8, 8, 8, 8, 8, 8, 8, 8, 8, 8, 8, 8, 8, 8,...</td>\n",
              "    </tr>\n",
              "    <tr>\n",
              "      <th>1</th>\n",
              "      <td>&lt;|im_start|&gt;system\\nYou are a helpful assistan...</td>\n",
              "      <td>136b0064</td>\n",
              "      <td>0</td>\n",
              "      <td>1095</td>\n",
              "      <td>3</td>\n",
              "      <td>19</td>\n",
              "      <td>15</td>\n",
              "      <td>19</td>\n",
              "      <td>7</td>\n",
              "      <td>[[0, 0, 5, 0, 0, 0, 0], [0, 0, 1, 1, 1, 0, 0],...</td>\n",
              "    </tr>\n",
              "    <tr>\n",
              "      <th>2</th>\n",
              "      <td>&lt;|im_start|&gt;system\\nYou are a helpful assistan...</td>\n",
              "      <td>13e47133</td>\n",
              "      <td>0</td>\n",
              "      <td>2256</td>\n",
              "      <td>3</td>\n",
              "      <td>30</td>\n",
              "      <td>30</td>\n",
              "      <td>30</td>\n",
              "      <td>30</td>\n",
              "      <td>[[1, 1, 1, 1, 1, 1, 1, 1, 1, 1, 1, 8, 6, 6, 6,...</td>\n",
              "    </tr>\n",
              "  </tbody>\n",
              "</table>\n",
              "</div>"
            ],
            "text/plain": [
              "                                                text   task_id  \\\n",
              "0  <|im_start|>system\\nYou are a helpful assistan...  135a2760   \n",
              "1  <|im_start|>system\\nYou are a helpful assistan...  136b0064   \n",
              "2  <|im_start|>system\\nYou are a helpful assistan...  13e47133   \n",
              "\n",
              "   test_sample_index  prompt_length  num_train_samples  input_height  \\\n",
              "0                  0           1687                  2            29   \n",
              "1                  0           1095                  3            19   \n",
              "2                  0           2256                  3            30   \n",
              "\n",
              "   input_width  output_height  output_width  \\\n",
              "0           29             29            29   \n",
              "1           15             19             7   \n",
              "2           30             30            30   \n",
              "\n",
              "                                 ground_truth_output  \n",
              "0  [[8, 8, 8, 8, 8, 8, 8, 8, 8, 8, 8, 8, 8, 8, 8,...  \n",
              "1  [[0, 0, 5, 0, 0, 0, 0], [0, 0, 1, 1, 1, 0, 0],...  \n",
              "2  [[1, 1, 1, 1, 1, 1, 1, 1, 1, 1, 1, 8, 6, 6, 6,...  "
            ]
          },
          "metadata": {},
          "output_type": "display_data"
        },
        {
          "name": "stdout",
          "output_type": "stream",
          "text": [
            "\n",
            "Task 2: Test:\n",
            "  Shape: (259, 7)\n",
            "  Columns: ['text', 'task_id', 'test_sample_index', 'prompt_length', 'num_train_samples', 'input_height', 'input_width']\n"
          ]
        },
        {
          "data": {
            "text/html": [
              "<div>\n",
              "<style scoped>\n",
              "    .dataframe tbody tr th:only-of-type {\n",
              "        vertical-align: middle;\n",
              "    }\n",
              "\n",
              "    .dataframe tbody tr th {\n",
              "        vertical-align: top;\n",
              "    }\n",
              "\n",
              "    .dataframe thead th {\n",
              "        text-align: right;\n",
              "    }\n",
              "</style>\n",
              "<table border=\"1\" class=\"dataframe\">\n",
              "  <thead>\n",
              "    <tr style=\"text-align: right;\">\n",
              "      <th></th>\n",
              "      <th>text</th>\n",
              "      <th>task_id</th>\n",
              "      <th>test_sample_index</th>\n",
              "      <th>prompt_length</th>\n",
              "      <th>num_train_samples</th>\n",
              "      <th>input_height</th>\n",
              "      <th>input_width</th>\n",
              "    </tr>\n",
              "  </thead>\n",
              "  <tbody>\n",
              "    <tr>\n",
              "      <th>0</th>\n",
              "      <td>&lt;|im_start|&gt;system\\nYou are a helpful assistan...</td>\n",
              "      <td>00576224</td>\n",
              "      <td>0</td>\n",
              "      <td>127</td>\n",
              "      <td>2</td>\n",
              "      <td>2</td>\n",
              "      <td>2</td>\n",
              "    </tr>\n",
              "    <tr>\n",
              "      <th>1</th>\n",
              "      <td>&lt;|im_start|&gt;system\\nYou are a helpful assistan...</td>\n",
              "      <td>007bbfb7</td>\n",
              "      <td>0</td>\n",
              "      <td>248</td>\n",
              "      <td>5</td>\n",
              "      <td>3</td>\n",
              "      <td>3</td>\n",
              "    </tr>\n",
              "    <tr>\n",
              "      <th>2</th>\n",
              "      <td>&lt;|im_start|&gt;system\\nYou are a helpful assistan...</td>\n",
              "      <td>009d5c81</td>\n",
              "      <td>0</td>\n",
              "      <td>1383</td>\n",
              "      <td>5</td>\n",
              "      <td>14</td>\n",
              "      <td>14</td>\n",
              "    </tr>\n",
              "  </tbody>\n",
              "</table>\n",
              "</div>"
            ],
            "text/plain": [
              "                                                text   task_id  \\\n",
              "0  <|im_start|>system\\nYou are a helpful assistan...  00576224   \n",
              "1  <|im_start|>system\\nYou are a helpful assistan...  007bbfb7   \n",
              "2  <|im_start|>system\\nYou are a helpful assistan...  009d5c81   \n",
              "\n",
              "   test_sample_index  prompt_length  num_train_samples  input_height  \\\n",
              "0                  0            127                  2             2   \n",
              "1                  0            248                  5             3   \n",
              "2                  0           1383                  5            14   \n",
              "\n",
              "   input_width  \n",
              "0            2  \n",
              "1            3  \n",
              "2           14  "
            ]
          },
          "metadata": {},
          "output_type": "display_data"
        }
      ],
      "source": [
        "print(\"\\n\" + \"=\"*60)\n",
        "print(\"DATASET SUMMARIES\")\n",
        "print(\"=\"*60)\n",
        "\n",
        "datasets = [\n",
        "    ('Task 1: Train', task1_train_df),\n",
        "    ('Task 1: Validation', task1_val_df),\n",
        "    ('Task 1: Test', task1_test_df),\n",
        "    ('Task 2: Train', task2_train_df),\n",
        "    ('Task 2: Validation', task2_val_df),\n",
        "    ('Task 2: Test', task2_test_df),\n",
        "]\n",
        "\n",
        "for name, df in datasets:\n",
        "    print(f\"\\n{name}:\")\n",
        "    print(f\"  Shape: {df.shape}\")\n",
        "    print(f\"  Columns: {list(df.columns)}\")\n",
        "    display(df.head(3))"
      ]
    },
    {
      "cell_type": "code",
      "execution_count": 56,
      "metadata": {},
      "outputs": [
        {
          "name": "stdout",
          "output_type": "stream",
          "text": [
            "\n",
            "============================================================\n",
            "EXAMPLE PROMPT - TASK 1 (output-from-examples)\n",
            "============================================================\n",
            "<|im_start|>system\n",
            "You are a helpful assistant.<|im_end|>\n",
            "<|im_start|>user\n",
            "Let's see if you can solve this simple Abstraction and Reasoning Challenge (ARC) task.\n",
            "Below there are some input-output grid examples that define the task.\n",
            "Your job is to understand the transformation between the input and the output and apply it to the test input grid.\n",
            "The transformations are always based on the following priors: objectness, goal-directed, numbers & counting, and basic geometry & topology.\n",
            "\n",
            "## Example 1\n",
            "\n",
            "### Input\n",
            "\n",
            "```grid shape: 2x2\n",
            "1 79\n",
            "2 43\n",
            "```\n",
            "\n",
            "### Output\n",
            "\n",
            "```grid shape: 6x6\n",
            "1 797979\n",
            "2 434343\n",
            "3 979797\n",
            "4 343434\n",
            "5 797979\n",
            "6 434343\n",
            "```\n",
            "\n",
            "## Example 2\n",
            "\n",
            "### Input\n",
            "\n",
            "```grid shape: 2x2\n",
            "1 86\n",
            "2 64\n",
            "```\n",
            "\n",
            "### Output\n",
            "\n",
            "```grid shape: 6x6\n",
            "1 868686\n",
            "2 646464\n",
            "3 686868\n",
            "4 464646\n",
            "5 868686\n",
            "6 646464\n",
            "```\n",
            "\n",
            "## Test case\n",
            "\n",
            "### Input\n",
            "\n",
            "```grid shape: 2x2\n",
            "1 32\n",
            "2 78\n",
            "```<|im_end|>\n",
            "<|im_start|>assistant\n",
            "### Output\n",
            "\n",
            "```grid shape: 6x6\n",
            "1 323232\n",
            "2 787878\n",
            "3 232323\n",
            "4 878787\n",
            "5 323232\n",
            "6 787878\n",
            "```<|im_end|>\n",
            "\n",
            "\n",
            "[... truncated ...]\n"
          ]
        }
      ],
      "source": [
        "# Show example prompt for Task 1\n",
        "print(\"\\n\" + \"=\"*60)\n",
        "print(\"EXAMPLE PROMPT - TASK 1 (output-from-examples)\")\n",
        "print(\"=\"*60)\n",
        "print(task1_train_df.iloc[0]['text'])\n",
        "\n",
        "print(\"\\n[... truncated ...]\")"
      ]
    },
    {
      "cell_type": "code",
      "execution_count": 57,
      "metadata": {},
      "outputs": [
        {
          "name": "stdout",
          "output_type": "stream",
          "text": [
            "\n",
            "============================================================\n",
            "EXAMPLE PROMPT - TASK 2 (input-from-inputs)\n",
            "============================================================\n",
            "<|im_start|>system\n",
            "You are a helpful assistant.<|im_end|>\n",
            "<|im_start|>user\n",
            "Your task is to create a new grid that follows the same distribution as the input grids from the Abstraction and Reasoning Challenge (ARC).\n",
            "Below there are some grid examples, please create a new and different grid that follows the same distribution.\n",
            "\n",
            "## Grid example 1\n",
            "\n",
            "```grid shape: 2x2\n",
            "1 79\n",
            "2 43\n",
            "```\n",
            "\n",
            "## Grid example 2\n",
            "\n",
            "```grid shape: 2x2\n",
            "1 86\n",
            "2 64\n",
            "```\n",
            "<|im_end|>\n",
            "<|im_start|>assistant\n",
            "## New grid\n",
            "\n",
            "```grid shape: 2x2\n",
            "1 32\n",
            "2 78\n",
            "```<|im_end|>\n",
            "\n",
            "\n",
            "[... truncated ...]\n"
          ]
        }
      ],
      "source": [
        "# Show example prompt for Task 2\n",
        "print(\"\\n\" + \"=\"*60)\n",
        "print(\"EXAMPLE PROMPT - TASK 2 (input-from-inputs)\")\n",
        "print(\"=\"*60)\n",
        "print(task2_train_df.iloc[0]['text'][:1500])  # First 1500 chars\n",
        "print(\"\\n[... truncated ...]\")"
      ]
    },
    {
      "cell_type": "markdown",
      "metadata": {},
      "source": [
        "## Save Datasets"
      ]
    },
    {
      "cell_type": "code",
      "execution_count": 58,
      "metadata": {},
      "outputs": [
        {
          "name": "stdout",
          "output_type": "stream",
          "text": [
            "Configuration saved to ./output/datasets_qwen25/config.json\n",
            "\n",
            "All datasets saved to ./output/datasets_qwen25/\n",
            "\n",
            "Files created:\n",
            "  config.json: 0.00 MB\n",
            "  task1_test.parquet: 0.16 MB\n",
            "  task1_train.parquet: 0.64 MB\n",
            "  task1_validation.parquet: 0.14 MB\n",
            "  task2_test.parquet: 0.08 MB\n",
            "  task2_train.parquet: 0.52 MB\n",
            "  task2_validation.parquet: 0.14 MB\n"
          ]
        }
      ],
      "source": [
        "# Create output directory from CFG\n",
        "output_dir = cfg.output_dir\n",
        "os.makedirs(output_dir, exist_ok=True)\n",
        "\n",
        "# Save CFG configuration\n",
        "with open(f'{output_dir}/config.json', 'w') as f:\n",
        "    cfg_dict = asdict(cfg)\n",
        "    # Add prompt versions\n",
        "    cfg_dict['task1_prompt_version'] = TASK1_PROMPT\n",
        "    cfg_dict['task2_prompt_version'] = TASK2_PROMPT\n",
        "    json.dump(cfg_dict, f, indent=2)\n",
        "print(f\"Configuration saved to {output_dir}/config.json\")\n",
        "\n",
        "# Save all datasets\n",
        "task1_train_df.to_parquet(f'{output_dir}/task1_train.parquet', index=False)\n",
        "task1_val_df.to_parquet(f'{output_dir}/task1_validation.parquet', index=False)\n",
        "task1_test_df.to_parquet(f'{output_dir}/task1_test.parquet', index=False)\n",
        "\n",
        "task2_train_df.to_parquet(f'{output_dir}/task2_train.parquet', index=False)\n",
        "task2_val_df.to_parquet(f'{output_dir}/task2_validation.parquet', index=False)\n",
        "task2_test_df.to_parquet(f'{output_dir}/task2_test.parquet', index=False)\n",
        "\n",
        "print(f\"\\nAll datasets saved to {output_dir}/\")\n",
        "print(\"\\nFiles created:\")\n",
        "for f in sorted(os.listdir(output_dir)):\n",
        "    filepath = os.path.join(output_dir, f)\n",
        "    if os.path.isfile(filepath):\n",
        "        size_mb = os.path.getsize(filepath) / (1024*1024)\n",
        "        print(f\"  {f}: {size_mb:.2f} MB\")"
      ]
    },
    {
      "cell_type": "markdown",
      "metadata": {},
      "source": [
        "## Dataset Statistics"
      ]
    },
    {
      "cell_type": "code",
      "execution_count": 59,
      "metadata": {},
      "outputs": [
        {
          "data": {
            "image/png": "[encoded data removed]",
            "text/plain": [
              "<Figure size 1800x1000 with 6 Axes>"
            ]
          },
          "metadata": {},
          "output_type": "display_data"
        }
      ],
      "source": [
        "import matplotlib.pyplot as plt\n",
        "\n",
        "fig, axes = plt.subplots(2, 3, figsize=(18, 10))\n",
        "fig.suptitle('Prompt Length Distributions', fontsize=16)\n",
        "\n",
        "for idx, (name, df) in enumerate(datasets):\n",
        "    ax = axes[idx // 3, idx % 3]\n",
        "    df['prompt_length'].hist(bins=50, ax=ax)\n",
        "    ax.set_title(name)\n",
        "    ax.set_xlabel('Prompt Length (tokens)')\n",
        "    ax.set_ylabel('Frequency')\n",
        "    ax.axvline(df['prompt_length'].mean(), color='r', linestyle='--', label='Mean')\n",
        "    ax.axvline(df['prompt_length'].median(), color='g', linestyle='--', label='Median')\n",
        "    \n",
        "    # Show max_seq_len line for train/val\n",
        "    if 'Train' in name or 'Validation' in name:\n",
        "        ax.axvline(cfg.max_seq_len, color='orange', linestyle=':', label=f'Max ({cfg.max_seq_len})')\n",
        "    \n",
        "    ax.legend()\n",
        "\n",
        "plt.tight_layout()\n",
        "plt.savefig(f'{output_dir}/prompt_length_distributions.png', dpi=150)\n",
        "plt.show()"
      ]
    },
    {
      "cell_type": "code",
      "execution_count": 60,
      "metadata": {},
      "outputs": [
        {
          "name": "stdout",
          "output_type": "stream",
          "text": [
            "\n",
            "============================================================\n",
            "TASK COMPARISON\n",
            "============================================================\n",
            "\n",
            "Task 1 (output-from-examples-v1):\n",
            "  Train samples: 974\n",
            "  Val samples: 124\n",
            "  Test samples: 259\n",
            "  Avg prompt length: 1609 tokens\n",
            "\n",
            "Task 2 (input-from-inputs-v0):\n",
            "  Train samples: 1060\n",
            "  Val samples: 166\n",
            "  Test samples: 259\n",
            "  Avg prompt length: 1041 tokens\n"
          ]
        }
      ],
      "source": [
        "# Compare Task 1 vs Task 2 prompt lengths\n",
        "print(\"\\n\" + \"=\"*60)\n",
        "print(\"TASK COMPARISON\")\n",
        "print(\"=\"*60)\n",
        "\n",
        "print(f\"\\nTask 1 ({TASK1_PROMPT}):\")\n",
        "print(f\"  Train samples: {len(task1_train_df)}\")\n",
        "print(f\"  Val samples: {len(task1_val_df)}\")\n",
        "print(f\"  Test samples: {len(task1_test_df)}\")\n",
        "print(f\"  Avg prompt length: {task1_train_df['prompt_length'].mean():.0f} tokens\")\n",
        "\n",
        "print(f\"\\nTask 2 ({TASK2_PROMPT}):\")\n",
        "print(f\"  Train samples: {len(task2_train_df)}\")\n",
        "print(f\"  Val samples: {len(task2_val_df)}\")\n",
        "print(f\"  Test samples: {len(task2_test_df)}\")\n",
        "print(f\"  Avg prompt length: {task2_train_df['prompt_length'].mean():.0f} tokens\")"
      ]
    },
    {
      "cell_type": "markdown",
      "metadata": {},
      "source": [
        "## Summary\n",
        "\n",
        "Созданы 6 датасетов с использованием CFG конфигурации:\n",
        "\n",
        "**Configuration:**\n",
        "- Model: Qwen/Qwen2.5-0.5B-Instruct\n",
        "- Grid Encoder: GridShapeEncoder(RowNumberEncoder(MinimalGridEncoder()))\n",
        "- Max Sequence Length: 4096 tokens\n",
        "\n",
        "**Task 1 (examples + input → output):**\n",
        "- `task1_train.parquet` - Тренировочный датасет\n",
        "- `task1_validation.parquet` - Валидационный датасет\n",
        "- `task1_test.parquet` - Тестовый датасет\n",
        "\n",
        "**Task 2 (inputs → input - генерация):**\n",
        "- `task2_train.parquet` - Тренировочный датасет\n",
        "- `task2_validation.parquet` - Валидационный датасет\n",
        "- `task2_test.parquet` - Тестовый датасет\n",
        "\n",
        "**Дополнительно:**\n",
        "- `config.json` - Полная конфигурация CFG\n",
        "\n",
        "### Метаданные в каждом датасете:\n",
        "- `text` - сгенерированный промпт\n",
        "- `task_id` - идентификатор задачи\n",
        "- `test_sample_index` - индекс тестового примера\n",
        "- `prompt_length` - длина промпта в токенах\n",
        "- `num_train_samples` - количество тренировочных примеров в задаче\n",
        "- `input_height`, `input_width` - размеры входной сетки\n",
        "- `output_height`, `output_width` - размеры выходной сетки (только для train/val)\n",
        "\n",
        "### Использование:\n",
        "```python\n",
        "import pandas as pd\n",
        "import json\n",
        "\n",
        "# Load configuration\n",
        "with open('datasets_qwen25/config.json', 'r') as f:\n",
        "    config = json.load(f)\n",
        "\n",
        "# Load dataset\n",
        "df = pd.read_parquet('datasets_qwen25/task1_train.parquet')\n",
        "\n",
        "# Convert to HuggingFace Dataset\n",
        "from datasets import Dataset\n",
        "hf_dataset = Dataset.from_pandas(df)\n",
        "```"
      ]
    }
  ],
  "metadata": {
    "kernelspec": {
      "display_name": "Python 3",
      "language": "python",
      "name": "python3"
    },
    "language_info": {
      "codemirror_mode": {
        "name": "ipython",
        "version": 3
      },
      "file_extension": ".py",
      "mimetype": "text/x-python",
      "name": "python",
      "nbconvert_exporter": "python",
      "pygments_lexer": "ipython3",
      "version": "3.10.18"
    }
  },
  "nbformat": 4,
  "nbformat_minor": 4
}
