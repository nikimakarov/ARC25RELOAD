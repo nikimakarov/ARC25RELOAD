{
 "cells": [
  {
   "cell_type": "code",
   "execution_count": 1,
   "id": "89c4787f",
   "metadata": {},
   "outputs": [],
   "source": [
    "#qwen25-0.5b/1\n",
    "total_train_steps = 32000\n",
    "class cfg:\n",
    "    # Model\n",
    "    model_path = '/kaggle/input/qwen2.5/transformers/0.5b-instruct/1'\n",
    "    input_lora_path = None\n",
    "    prompt_version = 'output-from-examples-v1'\n",
    "    merged_model_path = '/kaggle/tmp/train/qwen_merged_model'\n",
    "    grid_encoder = 'GridShapeEncoder(RowNumberEncoder(MinimalGridEncoder()))'\n",
    "    max_model_len = 10240\n",
    "    # Dataset\n",
    "    dataset_path = '/kaggle/input/arc-prize-2025/arc-agi_training_challenges.json'\n",
    "    max_steps = 2e5\n",
    "    learning_rate = 5e-5\n",
    "    lr_scheduler_type: str = \"linear\" \n",
    "    batch_size = 16\n",
    "    max_seq_len = 8196\n",
    "    # Inference params\n",
    "    predictions_per_task = 96\n",
    "    ensemble_with_2020: bool = False\n",
    "    prompt_version = 'output-from-examples-v1'"
   ]
  },
  {
   "cell_type": "code",
   "execution_count": 2,
   "id": "aefb9ed5",
   "metadata": {},
   "outputs": [
    {
     "name": "stderr",
     "output_type": "stream",
     "text": [
      "/opt/anaconda3/envs/arc/lib/python3.10/site-packages/tqdm/auto.py:21: TqdmWarning: IProgress not found. Please update jupyter and ipywidgets. See https://ipywidgets.readthedocs.io/en/stable/user_install.html\n",
      "  from .autonotebook import tqdm as notebook_tqdm\n"
     ]
    }
   ],
   "source": [
    "import logging\n",
    "import subprocess\n",
    "import sys\n",
    "import json\n",
    "import glob\n",
    "import os\n",
    "import shutil\n",
    "from tqdm.auto import tqdm\n",
    "\n",
    "sys.path.append('/kaggle/input/arc24-source-code')\n",
    "\n",
    "# Configure logging to output to the notebook console\n",
    "logging.basicConfig(level=logging.INFO, format='%(asctime)s - %(levelname)s - %(message)s', force=True)"
   ]
  },
  {
   "cell_type": "code",
   "execution_count": 3,
   "id": "3134b162",
   "metadata": {},
   "outputs": [
    {
     "ename": "ModuleNotFoundError",
     "evalue": "No module named 'arc24'",
     "output_type": "error",
     "traceback": [
      "\u001b[0;31m---------------------------------------------------------------------------\u001b[0m",
      "\u001b[0;31mModuleNotFoundError\u001b[0m                       Traceback (most recent call last)",
      "Cell \u001b[0;32mIn[3], line 1\u001b[0m\n\u001b[0;32m----> 1\u001b[0m \u001b[38;5;28;01mfrom\u001b[39;00m\u001b[38;5;250m \u001b[39m\u001b[38;5;21;01marc24\u001b[39;00m\u001b[38;5;21;01m.\u001b[39;00m\u001b[38;5;21;01mutils\u001b[39;00m\u001b[38;5;250m \u001b[39m\u001b[38;5;28;01mimport\u001b[39;00m ResourceMonitor\n\u001b[1;32m      2\u001b[0m monitor \u001b[38;5;241m=\u001b[39m ResourceMonitor(interval\u001b[38;5;241m=\u001b[39m\u001b[38;5;241m1\u001b[39m)\n\u001b[1;32m      3\u001b[0m monitor\u001b[38;5;241m.\u001b[39mstart()\n",
      "\u001b[0;31mModuleNotFoundError\u001b[0m: No module named 'arc24'"
     ]
    }
   ],
   "source": [
    "from arc24.utils import ResourceMonitor\n",
    "monitor = ResourceMonitor(interval=1)\n",
    "monitor.start()"
   ]
  },
  {
   "cell_type": "code",
   "execution_count": null,
   "id": "a150aa48",
   "metadata": {},
   "outputs": [],
   "source": []
  }
 ],
 "metadata": {
  "kernelspec": {
   "display_name": "arc",
   "language": "python",
   "name": "python3"
  },
  "language_info": {
   "codemirror_mode": {
    "name": "ipython",
    "version": 3
   },
   "file_extension": ".py",
   "mimetype": "text/x-python",
   "name": "python",
   "nbconvert_exporter": "python",
   "pygments_lexer": "ipython3",
   "version": "3.10.18"
  }
 },
 "nbformat": 4,
 "nbformat_minor": 5
}
